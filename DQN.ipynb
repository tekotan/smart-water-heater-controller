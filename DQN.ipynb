{
 "cells": [
  {
   "cell_type": "code",
   "execution_count": 3,
   "metadata": {
    "scrolled": true
   },
   "outputs": [],
   "source": [
    "import tensorflow as tf\n",
    "import numpy as np\n",
    "\n",
    "from tf_agents.environments import py_environment\n",
    "from tf_agents.environments import tf_environment\n",
    "from tf_agents.environments import tf_py_environment\n",
    "from tf_agents.environments import utils\n",
    "from tf_agents.specs import array_spec\n",
    "from tf_agents.environments import wrappers\n",
    "from tf_agents.environments import suite_gym\n",
    "from tf_agents.trajectories import time_step as ts"
   ]
  },
  {
   "cell_type": "code",
   "execution_count": 22,
   "metadata": {},
   "outputs": [],
   "source": [
    "class DailyUsageEnv(py_environment.PyEnvironment):\n",
    "    def __init__(self):\n",
    "        self._action_spec = array_spec.BoundedArraySpec(\n",
    "            shape=(),\n",
    "            dtype=np.int32,\n",
    "            minimum=0,\n",
    "            maximum=2,\n",
    "            name=\"action\"\n",
    "        )\n",
    "        self._observation_spec = array_spec.BoundedArraySpec(\n",
    "            shape=(1, ),\n",
    "            dtype=np.int32,\n",
    "            minimum=0,\n",
    "            maximum=2,\n",
    "            name=\"observation\"\n",
    "        )\n",
    "        self.num_steps = 0\n",
    "        self.discount = 1\n",
    "        self.history_buffer = 1\n",
    "        self.time_step_freq = 15\n",
    "        self._boiler_state = 0\n",
    "        self._usage_state = 0\n",
    "        self._history = np.zeros((24*4))\n",
    "        self._day_usage = np.array([])\n",
    "        self._dummy_boiler = Boiler()\n",
    "    def observation_spec(self):\n",
    "        \"\"\"Return observation_spec.\"\"\"\n",
    "        return self.observation_spec\n",
    "\n",
    "    def action_spec(self):\n",
    "        \"\"\"Return action_spec.\"\"\"\n",
    "        return self._action_spec\n",
    "\n",
    "    def _reset(self):\n",
    "        \"\"\"Return initial_time_step.\"\"\"\n",
    "        if self._history.shape[0] < (self.history_buffer * 24 * 60 // 15):\n",
    "            self._history = np.append(self._history, self._day_usage)\n",
    "        else:\n",
    "            self._history = np.delete(self._history, np.s_[:24 * 60 // 15])\n",
    "            self._history = np.append(self._history, self._day_usage)\n",
    "        self._day_usage = np.array([])\n",
    "        self.num_steps = 0\n",
    "        self._dummy_boiler.reset_states()\n",
    "        return ts.restart((self._boiler_state, self._usage_state, self._history, self._day_usage))\n",
    "\n",
    "    def _step(self, action):\n",
    "        \"\"\"Apply action and return new time_step.\"\"\"\n",
    "        if self.num_steps > 24 * 60 / 15:\n",
    "            return self.reset()\n",
    "        self.num_steps += 1\n",
    "        if action == 1:\n",
    "            self._boiler_state = 1\n",
    "        elif action == 2:\n",
    "            self._boiler_state = 0\n",
    "        if self.num_steps > 24 * 60 / 15:\n",
    "            return ts.termination((self._boiler_state, self._usage_state, self._history, self._day_usage), 0.0)\n",
    "        self._day_usage = np.append(self._day_usage, [self._usage_state])\n",
    "        self._usage_state = self._dummy_boiler.get_usage_state()\n",
    "\n",
    "        if self._usage_state and self._boiler_state:\n",
    "            reward = 10\n",
    "        elif self._usage_state and not self._boiler_state:\n",
    "            reward = -100\n",
    "        elif not self._usage_state and not self._boiler_state:\n",
    "            reward = 5\n",
    "        elif not self._usage_state and self._boiler_state:\n",
    "            reward = -5\n",
    "        return ts.transition((\n",
    "                                self._boiler_state,\n",
    "                                self._usage_state,\n",
    "                                self._history,\n",
    "                                self._day_usage\n",
    "                            ), reward=reward, discount=self.discount)\n",
    "        "
   ]
  },
  {
   "cell_type": "code",
   "execution_count": 23,
   "metadata": {},
   "outputs": [],
   "source": [
    "class Boiler:\n",
    "    def __init__(self):\n",
    "        self.states = np.ones((24 * 60 // 15))\n",
    "        self.generator = self.get_state_generator\n",
    "    def get_state_generator(self):\n",
    "        for i in self.states:\n",
    "            yield i\n",
    "    def get_usage_state(self):\n",
    "        return next(self.generator)\n",
    "    def reset_states(self):\n",
    "        del self.generator\n",
    "        self.generator = self.get_state_generator()"
   ]
  },
  {
   "cell_type": "code",
   "execution_count": 24,
   "metadata": {},
   "outputs": [],
   "source": [
    "env = DailyUsageEnv()"
   ]
  },
  {
   "cell_type": "code",
   "execution_count": 25,
   "metadata": {},
   "outputs": [
    {
     "ename": "ValueError",
     "evalue": "Given `time_step`: TimeStep(step_type=array(0), reward=array(0., dtype=float32), discount=array(1., dtype=float32), observation=(0, 0, array([], dtype=float64), array([], dtype=float64))) does not match expected `time_step_spec`: TimeStep(step_type=ArraySpec(shape=(), dtype=dtype('int32'), name='step_type'), reward=ArraySpec(shape=(), dtype=dtype('float32'), name='reward'), discount=BoundedArraySpec(shape=(), dtype=dtype('float32'), name='discount', minimum=0.0, maximum=1.0), observation=<bound method DailyUsageEnv.observation_spec of <__main__.DailyUsageEnv object at 0x000001F0123A9B38>>)",
     "output_type": "error",
     "traceback": [
      "\u001b[1;31m---------------------------------------------------------------------------\u001b[0m",
      "\u001b[1;31mValueError\u001b[0m                                Traceback (most recent call last)",
      "\u001b[1;32m<ipython-input-25-12c17bde3b4a>\u001b[0m in \u001b[0;36m<module>\u001b[1;34m\u001b[0m\n\u001b[1;32m----> 1\u001b[1;33m \u001b[0mutils\u001b[0m\u001b[1;33m.\u001b[0m\u001b[0mvalidate_py_environment\u001b[0m\u001b[1;33m(\u001b[0m\u001b[0menv\u001b[0m\u001b[1;33m,\u001b[0m \u001b[0mepisodes\u001b[0m\u001b[1;33m=\u001b[0m\u001b[1;36m5\u001b[0m\u001b[1;33m)\u001b[0m\u001b[1;33m\u001b[0m\u001b[1;33m\u001b[0m\u001b[0m\n\u001b[0m",
      "\u001b[1;32md:\\entreprenuership_project\\env\\lib\\site-packages\\tf_agents\\environments\\utils.py\u001b[0m in \u001b[0;36mvalidate_py_environment\u001b[1;34m(environment, episodes)\u001b[0m\n\u001b[0;32m     58\u001b[0m       raise ValueError(\n\u001b[0;32m     59\u001b[0m           \u001b[1;34m'Given `time_step`: %r does not match expected `time_step_spec`: %r'\u001b[0m \u001b[1;33m%\u001b[0m\u001b[1;33m\u001b[0m\u001b[1;33m\u001b[0m\u001b[0m\n\u001b[1;32m---> 60\u001b[1;33m           (time_step, time_step_spec))\n\u001b[0m\u001b[0;32m     61\u001b[0m \u001b[1;33m\u001b[0m\u001b[0m\n\u001b[0;32m     62\u001b[0m     \u001b[0maction\u001b[0m \u001b[1;33m=\u001b[0m \u001b[0mrandom_policy\u001b[0m\u001b[1;33m.\u001b[0m\u001b[0maction\u001b[0m\u001b[1;33m(\u001b[0m\u001b[0mtime_step\u001b[0m\u001b[1;33m)\u001b[0m\u001b[1;33m.\u001b[0m\u001b[0maction\u001b[0m\u001b[1;33m\u001b[0m\u001b[1;33m\u001b[0m\u001b[0m\n",
      "\u001b[1;31mValueError\u001b[0m: Given `time_step`: TimeStep(step_type=array(0), reward=array(0., dtype=float32), discount=array(1., dtype=float32), observation=(0, 0, array([], dtype=float64), array([], dtype=float64))) does not match expected `time_step_spec`: TimeStep(step_type=ArraySpec(shape=(), dtype=dtype('int32'), name='step_type'), reward=ArraySpec(shape=(), dtype=dtype('float32'), name='reward'), discount=BoundedArraySpec(shape=(), dtype=dtype('float32'), name='discount', minimum=0.0, maximum=1.0), observation=<bound method DailyUsageEnv.observation_spec of <__main__.DailyUsageEnv object at 0x000001F0123A9B38>>)"
     ]
    }
   ],
   "source": [
    "utils.validate_py_environment(env, episodes=5)"
   ]
  },
  {
   "cell_type": "code",
   "execution_count": null,
   "metadata": {},
   "outputs": [],
   "source": []
  }
 ],
 "metadata": {
  "kernelspec": {
   "display_name": "Python 3",
   "language": "python",
   "name": "python3"
  },
  "language_info": {
   "codemirror_mode": {
    "name": "ipython",
    "version": 3
   },
   "file_extension": ".py",
   "mimetype": "text/x-python",
   "name": "python",
   "nbconvert_exporter": "python",
   "pygments_lexer": "ipython3",
   "version": "3.6.7"
  }
 },
 "nbformat": 4,
 "nbformat_minor": 4
}
